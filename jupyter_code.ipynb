{
 "cells": [
  {
   "cell_type": "code",
   "execution_count": 57,
   "id": "textile-dealer",
   "metadata": {},
   "outputs": [],
   "source": [
    "import pandas as pd"
   ]
  },
  {
   "cell_type": "code",
   "execution_count": 58,
   "id": "ecological-territory",
   "metadata": {},
   "outputs": [],
   "source": [
    "import openpyxl"
   ]
  },
  {
   "cell_type": "code",
   "execution_count": 59,
   "id": "narrative-travel",
   "metadata": {},
   "outputs": [],
   "source": [
    "file_name = \"CrisisDB_Hierarchy_xls.xls\" \n",
    "sheet_name = 0\n",
    "header=0\n",
    "hier_df = pd.read_excel(file_name, sheet_name = sheet_name, header=header)"
   ]
  },
  {
   "cell_type": "code",
   "execution_count": 60,
   "id": "honey-affair",
   "metadata": {},
   "outputs": [],
   "source": [
    "#hier_df"
   ]
  },
  {
   "cell_type": "code",
   "execution_count": 51,
   "id": "aggressive-solomon",
   "metadata": {},
   "outputs": [
    {
     "data": {
      "text/plain": [
       "Economy Variables              25\n",
       "Well Being                      2\n",
       "Social Mobility                 2\n",
       "Social Complexity Variables     1\n",
       "Warfare Variables               1\n",
       "Name: Section, dtype: int64"
      ]
     },
     "execution_count": 51,
     "metadata": {},
     "output_type": "execute_result"
    }
   ],
   "source": [
    "hier_df['Section'].unique()"
   ]
  },
  {
   "cell_type": "code",
   "execution_count": 56,
   "id": "assisted-secondary",
   "metadata": {},
   "outputs": [
    {
     "name": "stdout",
     "output_type": "stream",
     "text": [
      "INSERT INTO core_section (name) VALUES ('Social Complexity Variables');\n",
      "INSERT INTO core_section (name) VALUES ('Economy Variables');\n",
      "INSERT INTO core_section (name) VALUES ('Warfare Variables');\n",
      "INSERT INTO core_section (name) VALUES ('Social Mobility');\n",
      "INSERT INTO core_section (name) VALUES ('Well Being');\n"
     ]
    }
   ],
   "source": [
    "for item in hier_df['Section'].unique():\n",
    "    print(f\"INSERT INTO core_section (name) VALUES ('{item}');\")"
   ]
  },
  {
   "cell_type": "code",
   "execution_count": 61,
   "id": "national-theology",
   "metadata": {},
   "outputs": [
    {
     "data": {
      "text/plain": [
       "array(['Social Complexity Variables', 'Economy Variables',\n",
       "       'Warfare Variables', 'Social Mobility', 'Well Being'], dtype=object)"
      ]
     },
     "execution_count": 61,
     "metadata": {},
     "output_type": "execute_result"
    }
   ],
   "source": [
    "hier_df['Section'].unique()"
   ]
  },
  {
   "cell_type": "markdown",
   "id": "baking-savannah",
   "metadata": {},
   "source": [
    "## Subsection\n",
    "\n",
    "#### We first use the Django shell to update the section_id dics"
   ]
  },
  {
   "cell_type": "code",
   "execution_count": 87,
   "id": "plain-carbon",
   "metadata": {},
   "outputs": [],
   "source": [
    "all_secs_with_id_dic = {'Social Complexity Variables': 17, 'Economy Variables': 18, 'Warfare Variables': 19, 'Social Mobility': 20, 'Well Being': 21}"
   ]
  },
  {
   "cell_type": "code",
   "execution_count": 88,
   "id": "applicable-george",
   "metadata": {},
   "outputs": [],
   "source": [
    "subsection_df = hier_df.drop_duplicates(subset=['Section', 'Subsection'])"
   ]
  },
  {
   "cell_type": "code",
   "execution_count": 89,
   "id": "impressive-accused",
   "metadata": {
    "scrolled": true
   },
   "outputs": [
    {
     "data": {
      "text/html": [
       "<div>\n",
       "<style scoped>\n",
       "    .dataframe tbody tr th:only-of-type {\n",
       "        vertical-align: middle;\n",
       "    }\n",
       "\n",
       "    .dataframe tbody tr th {\n",
       "        vertical-align: top;\n",
       "    }\n",
       "\n",
       "    .dataframe thead th {\n",
       "        text-align: right;\n",
       "    }\n",
       "</style>\n",
       "<table border=\"1\" class=\"dataframe\">\n",
       "  <thead>\n",
       "    <tr style=\"text-align: right;\">\n",
       "      <th></th>\n",
       "      <th>Section</th>\n",
       "      <th>Subsection</th>\n",
       "    </tr>\n",
       "  </thead>\n",
       "  <tbody>\n",
       "    <tr>\n",
       "      <th>0</th>\n",
       "      <td>Social Complexity Variables</td>\n",
       "      <td>Social Scale</td>\n",
       "    </tr>\n",
       "    <tr>\n",
       "      <th>1</th>\n",
       "      <td>Economy Variables</td>\n",
       "      <td>Taxation</td>\n",
       "    </tr>\n",
       "    <tr>\n",
       "      <th>2</th>\n",
       "      <td>Economy Variables</td>\n",
       "      <td>State Finances</td>\n",
       "    </tr>\n",
       "    <tr>\n",
       "      <th>4</th>\n",
       "      <td>Economy Variables</td>\n",
       "      <td>Productivity</td>\n",
       "    </tr>\n",
       "    <tr>\n",
       "      <th>7</th>\n",
       "      <td>Economy Variables</td>\n",
       "      <td>State Fiscal Health</td>\n",
       "    </tr>\n",
       "    <tr>\n",
       "      <th>9</th>\n",
       "      <td>Economy Variables</td>\n",
       "      <td>Wages and Costs</td>\n",
       "    </tr>\n",
       "    <tr>\n",
       "      <th>19</th>\n",
       "      <td>Warfare Variables</td>\n",
       "      <td>Internal Conflicts</td>\n",
       "    </tr>\n",
       "    <tr>\n",
       "      <th>23</th>\n",
       "      <td>Social Mobility</td>\n",
       "      <td>Advanced Degrees</td>\n",
       "    </tr>\n",
       "    <tr>\n",
       "      <th>27</th>\n",
       "      <td>Well Being</td>\n",
       "      <td>Biological Well-Being</td>\n",
       "    </tr>\n",
       "  </tbody>\n",
       "</table>\n",
       "</div>"
      ],
      "text/plain": [
       "                        Section             Subsection\n",
       "0   Social Complexity Variables           Social Scale\n",
       "1             Economy Variables               Taxation\n",
       "2             Economy Variables         State Finances\n",
       "4             Economy Variables           Productivity\n",
       "7             Economy Variables    State Fiscal Health\n",
       "9             Economy Variables        Wages and Costs\n",
       "19            Warfare Variables     Internal Conflicts\n",
       "23              Social Mobility       Advanced Degrees\n",
       "27                   Well Being  Biological Well-Being"
      ]
     },
     "execution_count": 89,
     "metadata": {},
     "output_type": "execute_result"
    }
   ],
   "source": [
    "new_subsection_df = subsection_df[['Section', 'Subsection']]\n",
    "new_subsection_df"
   ]
  },
  {
   "cell_type": "code",
   "execution_count": 90,
   "id": "accurate-acoustic",
   "metadata": {},
   "outputs": [
    {
     "name": "stdout",
     "output_type": "stream",
     "text": [
      "Social Complexity Variables Social Scale\n",
      "Economy Variables Taxation\n",
      "Economy Variables State Finances\n",
      "Economy Variables Productivity\n",
      "Economy Variables State Fiscal Health\n",
      "Economy Variables Wages and Costs\n",
      "Warfare Variables Internal Conflicts\n",
      "Social Mobility Advanced Degrees\n",
      "Well Being Biological Well-Being\n"
     ]
    }
   ],
   "source": [
    "for index, row in new_subsection_df.iterrows():\n",
    "    print(row['Section'], row['Subsection'])"
   ]
  },
  {
   "cell_type": "markdown",
   "id": "instant-length",
   "metadata": {},
   "source": [
    "<hr>\n",
    "\n",
    "#### note that, section_id is the way to refer to the section col on the subsection table"
   ]
  },
  {
   "cell_type": "code",
   "execution_count": 98,
   "id": "geographic-spring",
   "metadata": {},
   "outputs": [
    {
     "name": "stdout",
     "output_type": "stream",
     "text": [
      "INSERT INTO core_subsection (name, section_id) VALUES ('Social Scale', 17);\n",
      "INSERT INTO core_subsection (name, section_id) VALUES ('Taxation', 18);\n",
      "INSERT INTO core_subsection (name, section_id) VALUES ('State Finances', 18);\n",
      "INSERT INTO core_subsection (name, section_id) VALUES ('Productivity', 18);\n",
      "INSERT INTO core_subsection (name, section_id) VALUES ('State Fiscal Health', 18);\n",
      "INSERT INTO core_subsection (name, section_id) VALUES ('Wages and Costs', 18);\n",
      "INSERT INTO core_subsection (name, section_id) VALUES ('Internal Conflicts', 19);\n",
      "INSERT INTO core_subsection (name, section_id) VALUES ('Advanced Degrees', 20);\n",
      "INSERT INTO core_subsection (name, section_id) VALUES ('Biological Well-Being', 21);\n"
     ]
    }
   ],
   "source": [
    "for index, row in new_subsection_df.iterrows():    \n",
    "    sec_id = all_secs_with_id_dic[row['Section']]\n",
    "    subsection_name = row['Subsection']\n",
    "    print(f\"INSERT INTO core_subsection (name, section_id) VALUES ('{subsection_name}', {sec_id});\")"
   ]
  },
  {
   "cell_type": "code",
   "execution_count": null,
   "id": "considered-overhead",
   "metadata": {},
   "outputs": [],
   "source": []
  },
  {
   "cell_type": "markdown",
   "id": "bulgarian-mexico",
   "metadata": {},
   "source": [
    "## Variables:"
   ]
  },
  {
   "cell_type": "code",
   "execution_count": 102,
   "id": "complimentary-norfolk",
   "metadata": {},
   "outputs": [],
   "source": [
    "# To get this use seshat.utils.utils.section_dic_extractor\n",
    "\n",
    "all_secs_with_id_dic = {'Social Complexity Variables': 17, 'Economy Variables': 18, 'Warfare Variables': 19, 'Social Mobility': 20, 'Well Being': 21}"
   ]
  },
  {
   "cell_type": "code",
   "execution_count": 103,
   "id": "homeless-pantyhose",
   "metadata": {},
   "outputs": [],
   "source": [
    "# To get this use seshat.utils.utils.subsection_dic_extractor\n",
    "\n",
    "all_subsec_ids = {'Social Scale': 12, 'Taxation': 13, 'State Finances': 14, 'Productivity': 15, 'State Fiscal Health': 16, 'Wages and Costs': 17, 'Internal Conflicts': 18, 'Advanced Degrees': 19, 'Biological Well-Being': 20}"
   ]
  },
  {
   "cell_type": "code",
   "execution_count": 105,
   "id": "changed-disorder",
   "metadata": {},
   "outputs": [],
   "source": [
    "file_name = \"CrisisDB_Hierarchy_xls.xls\" \n",
    "sheet_name = 0\n",
    "header=0\n",
    "var_df = pd.read_excel(file_name, sheet_name = sheet_name, header=header)"
   ]
  },
  {
   "cell_type": "code",
   "execution_count": null,
   "id": "impossible-interface",
   "metadata": {},
   "outputs": [],
   "source": []
  },
  {
   "cell_type": "code",
   "execution_count": 109,
   "id": "southeast-grove",
   "metadata": {},
   "outputs": [
    {
     "name": "stdout",
     "output_type": "stream",
     "text": [
      "INSERT INTO core_variablehierarchy (name, section_id, subsection_id, is_verified) VALUES ('Population', 17, 12, True);\n",
      "INSERT INTO core_variablehierarchy (name, section_id, subsection_id, is_verified) VALUES ('Total_tax', 18, 13, True);\n",
      "INSERT INTO core_variablehierarchy (name, section_id, subsection_id, is_verified) VALUES ('Total_revenue', 18, 14, True);\n",
      "INSERT INTO core_variablehierarchy (name, section_id, subsection_id, is_verified) VALUES ('Total_expenditure', 18, 14, True);\n",
      "INSERT INTO core_variablehierarchy (name, section_id, subsection_id, is_verified) VALUES ('Total_economic_output', 18, 15, True);\n",
      "INSERT INTO core_variablehierarchy (name, section_id, subsection_id, is_verified) VALUES ('Tariff_and_transit', 18, 13, True);\n",
      "INSERT INTO core_variablehierarchy (name, section_id, subsection_id, is_verified) VALUES ('Salt_tax', 18, 13, True);\n",
      "INSERT INTO core_variablehierarchy (name, section_id, subsection_id, is_verified) VALUES ('Revenue_real', 18, 16, True);\n",
      "INSERT INTO core_variablehierarchy (name, section_id, subsection_id, is_verified) VALUES ('Revenue_official', 18, 16, True);\n",
      "INSERT INTO core_variablehierarchy (name, section_id, subsection_id, is_verified) VALUES ('Other_incomes', 18, 17, True);\n",
      "INSERT INTO core_variablehierarchy (name, section_id, subsection_id, is_verified) VALUES ('Misc_incomes', 18, 17, True);\n",
      "INSERT INTO core_variablehierarchy (name, section_id, subsection_id, is_verified) VALUES ('Maritime_custom', 18, 13, True);\n",
      "INSERT INTO core_variablehierarchy (name, section_id, subsection_id, is_verified) VALUES ('Lijin', 18, 13, True);\n",
      "INSERT INTO core_variablehierarchy (name, section_id, subsection_id, is_verified) VALUES ('Land_yield', 18, 15, True);\n",
      "INSERT INTO core_variablehierarchy (name, section_id, subsection_id, is_verified) VALUES ('Land_taxes_collected', 18, 13, True);\n",
      "INSERT INTO core_variablehierarchy (name, section_id, subsection_id, is_verified) VALUES ('Diding_taxes', 18, 13, True);\n",
      "INSERT INTO core_variablehierarchy (name, section_id, subsection_id, is_verified) VALUES ('Balance', 18, 16, True);\n",
      "INSERT INTO core_variablehierarchy (name, section_id, subsection_id, is_verified) VALUES ('Worker_wage', 18, 17, True);\n",
      "INSERT INTO core_variablehierarchy (name, section_id, subsection_id, is_verified) VALUES ('Wages', 18, 17, True);\n",
      "INSERT INTO core_variablehierarchy (name, section_id, subsection_id, is_verified) VALUES ('Taiping_rebellion', 19, 18, True);\n",
      "INSERT INTO core_variablehierarchy (name, section_id, subsection_id, is_verified) VALUES ('Shares_of_world_gdp', 18, 15, True);\n",
      "INSERT INTO core_variablehierarchy (name, section_id, subsection_id, is_verified) VALUES ('Rate_of_return', 18, 17, True);\n",
      "INSERT INTO core_variablehierarchy (name, section_id, subsection_id, is_verified) VALUES ('Rate_of_gdp_per_capita_growth', 18, 15, True);\n",
      "INSERT INTO core_variablehierarchy (name, section_id, subsection_id, is_verified) VALUES ('Jishi_degrees_awarded', 20, 19, True);\n",
      "INSERT INTO core_variablehierarchy (name, section_id, subsection_id, is_verified) VALUES ('Gdp_total', 18, 15, True);\n",
      "INSERT INTO core_variablehierarchy (name, section_id, subsection_id, is_verified) VALUES ('Gdp_per_capita', 18, 15, True);\n",
      "INSERT INTO core_variablehierarchy (name, section_id, subsection_id, is_verified) VALUES ('Gdp_growth_rate', 18, 15, True);\n",
      "INSERT INTO core_variablehierarchy (name, section_id, subsection_id, is_verified) VALUES ('Famine_event', 21, 20, True);\n",
      "INSERT INTO core_variablehierarchy (name, section_id, subsection_id, is_verified) VALUES ('Examination', 20, 19, True);\n",
      "INSERT INTO core_variablehierarchy (name, section_id, subsection_id, is_verified) VALUES ('Disease_event', 21, 20, True);\n",
      "INSERT INTO core_variablehierarchy (name, section_id, subsection_id, is_verified) VALUES ('Annual_wages', 18, 17, True);\n"
     ]
    }
   ],
   "source": [
    "for index, row in var_df.iterrows():    \n",
    "    sec_id = all_secs_with_id_dic[row['Section']]\n",
    "    subsec_id = all_subsec_ids[row['Subsection']]\n",
    "    var_name = row['Variable']\n",
    "    print(f\"INSERT INTO core_variablehierarchy (name, section_id, subsection_id, is_verified) VALUES ('{var_name}', {sec_id}, {subsec_id}, True);\")"
   ]
  },
  {
   "cell_type": "code",
   "execution_count": 66,
   "id": "threatened-journalist",
   "metadata": {},
   "outputs": [
    {
     "name": "stdout",
     "output_type": "stream",
     "text": [
      "<class 'int'>\n",
      "1\n",
      "2\n",
      "3\n",
      "<class 'int'>\n",
      "(3.0, 4.0)\n",
      "(5.0, 8.0)\n",
      "(7.0, 9.0)\n",
      "3.905124837953327\n",
      "[3. 5. 7.]\n",
      "[4. 8. 9.]\n",
      "<class 'shapely.geometry.linestring.LineString'>\n",
      "(4.0, 5.0, -1.2597607655874832, -0.20124742985593216)\n"
     ]
    },
    {
     "name": "stderr",
     "output_type": "stream",
     "text": [
      "/usr/lib/python3.8/tkinter/__init__.py:1892: RankWarning: Polyfit may be poorly conditioned\n",
      "  return self.func(*args)\n"
     ]
    },
    {
     "name": "stdout",
     "output_type": "stream",
     "text": [
      "(3.0, 4.0)\n",
      "(5.0, 8.0)\n",
      "(7.0, 9.0)\n",
      "3.905124837953327\n",
      "[3. 5. 7.]\n",
      "[4. 8. 9.]\n",
      "<class 'shapely.geometry.linestring.LineString'>\n",
      "(4.0, 5.0, -1.2597607655874832, -0.20124742985593216)\n"
     ]
    },
    {
     "name": "stderr",
     "output_type": "stream",
     "text": [
      "/usr/lib/python3.8/tkinter/__init__.py:1892: RankWarning: Polyfit may be poorly conditioned\n",
      "  return self.func(*args)\n"
     ]
    },
    {
     "data": {
      "image/png": "[encoded data removed]",
      "text/plain": [
       "<Figure size 432x288 with 1 Axes>"
      ]
     },
     "metadata": {
      "needs_background": "light"
     },
     "output_type": "display_data"
    }
   ],
   "source": [
    "from tkinter import *\n",
    "\n",
    "root = Tk()\n",
    "\n",
    "labelText=StringVar()\n",
    "labelText.set(\"Number of points you have: \")\n",
    "labelTop=Label(root, textvariable=labelText, height=2)\n",
    "#labelDir.pack(side=\"left\")\n",
    "\n",
    "directory=StringVar(None)\n",
    "num_points=Entry(root,textvariable=directory,width=10)\n",
    "#dirname.pack(side=\"left\")\n",
    "empty_label= Label(root, text=\"     \")\n",
    "\n",
    "labelText=StringVar()\n",
    "labelText.set(\"Number of points you want to test: \")\n",
    "labelTop2=Label(root, textvariable=labelText, height=2)\n",
    "#labelDir.pack(side=\"left\")\n",
    "\n",
    "directory=StringVar(None)\n",
    "num_points2=Entry(root,textvariable=directory,width=10)\n",
    "#dirname.pack(side=\"left\")\n",
    "empty_label= Label(root, text=\"     \")\n",
    "\n",
    "\n",
    "num_points.grid(row=0, column=1, padx=20, pady=2)\n",
    "\n",
    "my_xs = []\n",
    "my_ys = []\n",
    "label_xs = []\n",
    "label_ys = []\n",
    "\n",
    "my_xs_test = []\n",
    "my_ys_test = []\n",
    "label_xs_test = []\n",
    "label_ys_test = []\n",
    "\n",
    "dirname = []\n",
    "labelDir = []\n",
    "\n",
    "\n",
    "def myClick():\n",
    "    my_points_num = int(num_points.get())\n",
    "    print(type(my_points_num))\n",
    "    for i in range(my_points_num):\n",
    "        labelText=StringVar()\n",
    "        labelText.set(f\"Point {i+1} (x-value): \")\n",
    "        label_xs.append(Label(root, textvariable=labelText, height=2))\n",
    "        #labelDir.pack(side=\"left\")\n",
    "\n",
    "        directory=StringVar(None)\n",
    "        my_xs.append(Entry(root,textvariable=directory,width=15))\n",
    "        \n",
    "        labelText=StringVar()\n",
    "        labelText.set(f\"Point {i+1} (y-value): \")\n",
    "        label_ys.append(Label(root, textvariable=labelText, height=2))\n",
    "        #labelDir.pack(side=\"left\")\n",
    "\n",
    "        directory=StringVar(None)\n",
    "        my_ys.append(Entry(root,textvariable=directory,width=15))\n",
    "        \n",
    "        label_xs[i].grid(row=i+1, column=0, padx=10, pady=2)\n",
    "        my_xs[i].grid(row=i+1, column=1, padx=10, pady=2)\n",
    "        \n",
    "        label_ys[i].grid(row=i+1, column=2, padx=10, pady=2)\n",
    "        my_ys[i].grid(row=i+1, column=3, padx=10, pady=2)\n",
    "        \n",
    "        myButtonAdd.grid(row=i+1, column=4, padx=10, pady=2)\n",
    "        print(i+1)\n",
    "        \n",
    "    my_points_num2 = int(num_points2.get())\n",
    "    print(type(my_points_num2))\n",
    "    for i in range(my_points_num2):\n",
    "        labelText=StringVar()\n",
    "        labelText.set(f\"Point {i+1} (x-value) for testing: \")\n",
    "        label_xs_test.append(Label(root, textvariable=labelText, height=2))\n",
    "        #labelDir.pack(side=\"left\")\n",
    "\n",
    "        directory=StringVar(None)\n",
    "        my_xs_test.append(Entry(root,textvariable=directory,width=15))\n",
    "        \n",
    "        labelText=StringVar()\n",
    "        labelText.set(f\"Point {i+1} (y-value) for testing: \")\n",
    "        label_ys_test.append(Label(root, textvariable=labelText, height=2))\n",
    "        #labelDir.pack(side=\"left\")\n",
    "\n",
    "        directory=StringVar(None)\n",
    "        my_ys_test.append(Entry(root,textvariable=directory,width=15))\n",
    "        \n",
    "        label_xs_test[i].grid(row=my_points_num+i+1, column=0, padx=10, pady=2)\n",
    "        my_xs_test[i].grid(row=my_points_num+i+1, column=1, padx=10, pady=2)\n",
    "        \n",
    "        label_ys_test[i].grid(row=my_points_num+i+1, column=2, padx=10, pady=2)\n",
    "        my_ys_test[i].grid(row=my_points_num+i+1, column=3, padx=10, pady=2)\n",
    "        \n",
    "        myButtonAddTest.grid(row=my_points_num+i+1, column=4, padx=10, pady=2)\n",
    "\n",
    "def myClickPoints():\n",
    "    import numpy as np\n",
    "    import matplotlib.pyplot as plt\n",
    "    from matplotlib.backends.backend_tkagg import FigureCanvasTkAgg\n",
    "\n",
    "#     x = np.array([80, 85, 90, 95, 100, 105, 110, 115, 120, 125])\n",
    "#     y = np.array([240, 250, 260, 270, 280, 290, 300, 310, 320, 330])\n",
    "\n",
    "#     plt.plot(x, y)\n",
    "\n",
    "#     plt.xlabel(\"x\")\n",
    "#     plt.ylabel(\"y\")\n",
    "    \n",
    "\n",
    "#     plt.show()\n",
    "    \n",
    "    points_list_for_matplot = []\n",
    "    for i in range(len(my_xs)):\n",
    "        my_tuple = (float(my_xs[i].get()), float(my_ys[i].get()))\n",
    "        points_list_for_matplot.append(my_tuple)\n",
    "        print(my_tuple)\n",
    "    points = np.array(points_list_for_matplot)\n",
    "\n",
    "    line = geom.LineString(points_list)\n",
    "    point = geom.Point(2.5,9)\n",
    "\n",
    "    print(point.distance(line))\n",
    "\n",
    "    # get x and y vectors\n",
    "    x = points[:,0]\n",
    "    y = points[:,1]\n",
    "\n",
    "    print(x)\n",
    "    print(y)\n",
    "\n",
    "    print(type(line))\n",
    "\n",
    "    # calculate polynomial\n",
    "    z = np.polyfit(x, y, 3)\n",
    "    f = np.poly1d(z)\n",
    "\n",
    "    # calculate new x's and y's\n",
    "    x_new = np.linspace(x[0], x[-1], 50)\n",
    "    y_new = f(x_new)\n",
    "    \n",
    "    points_list_for_test = []\n",
    "    for i in range(len(my_xs_test)):\n",
    "        x_test = float(my_xs_test[i].get())\n",
    "        y_test = float(my_ys_test[i].get())\n",
    "        my_tuple = (x_test, y_test, y_test - f(x_test),((y_test - f(x_test))/f(x_test)))\n",
    "        points_list_for_test.append(my_tuple)\n",
    "        print(my_tuple)\n",
    "\n",
    "    #point_on_graph_with_same_x = f(2.5)\n",
    "    #point_on_graph_with_same_y = np.interp(8, y_new, x_new)\n",
    "\n",
    "    #print(point_on_graph_with_same_y)\n",
    "    #x_p = [2.5]\n",
    "    #y_p = [8]\n",
    "\n",
    "\n",
    "    plt.title(\"Testing\")\n",
    "    plt.xlabel(\"Dilution\")\n",
    "    plt.ylabel(\"y\")\n",
    "\n",
    "    plt.plot(x,y,'o', x_new, y_new,)\n",
    "    for item in points_list_for_test:\n",
    "        plt.plot(item[0], item[1],'x', markersize=10, label=f\"test point ({item[0]}, {item[1]}, {item[2]:.3f}, {item[3]:.3f})\")\n",
    "    #plt.plot(x_p, point_on_graph_with_same_x,'o', markersize=10, label=\"distance to x\")\n",
    "    #plt.plot(point_on_graph_with_same_y, y_p,'o', markersize=10, label=\"distance to y\")\n",
    "\n",
    "    plt.legend(loc=\"upper left\")\n",
    "\n",
    "\n",
    "    plt.xlim([x[0]-1, x[-1] + 1 ])\n",
    "\n",
    "    plt.grid()\n",
    "    \n",
    "    plt.savefig(\"myImagePDF_best_final.pdf\", format=\"pdf\", bbox_inches=\"tight\")\n",
    "    \n",
    "    with open('readme.txt', 'w') as f:\n",
    "        f.write('readme')\n",
    "    \n",
    "    plt.show\n",
    "\n",
    "#     x1 = float(num_points.get())\n",
    "#     my_points_num = int(num_points.get())\n",
    "#     print(type(my_points_num))\n",
    "#     for i in range(my_points_num):\n",
    "#         labelText=StringVar()\n",
    "#         labelText.set(f\"Please enter point {i+1} (x): \")\n",
    "#         labelDir=Label(root, textvariable=labelText, height=5)\n",
    "#         #labelDir.pack(side=\"left\")\n",
    "\n",
    "#         directory=StringVar(None)\n",
    "#         dirname=Entry(root,textvariable=directory,width=5)\n",
    "        \n",
    "#         labelDir.grid(row=i+1, column=0, padx=20, pady=2)\n",
    "#         dirname.grid(row=i+1, column=1, padx=20, pady=2)\n",
    "#         myButtonAdd.grid(row=i+1, column=2, padx=20, pady=2)\n",
    "        \n",
    "myButton = Button(root, text=\"Enter\", padx=30, command=myClick)\n",
    "myButtonAdd = Button(root, text=\"Add Points\", padx=10, command=myClickPoints)\n",
    "myButtonAddTest = Button(root, text=\"Add Test Points\", padx=10, command=myClickPoints)\n",
    "\n",
    "\n",
    "labelTop.grid(row=0, column=0, padx=10, pady=2)\n",
    "num_points.grid(row=0, column=1, padx=10, pady=2)\n",
    "labelTop2.grid(row=0, column=2, padx=10, pady=2)\n",
    "num_points2.grid(row=0, column=3, padx=10, pady=2)\n",
    "myButton.grid(row=0, column=4, padx=10, pady=2)\n",
    "\n",
    "\n",
    "\n",
    "# e = Entry(root, width=40, borderwidth = 5)\n",
    "# e.pack()\n",
    "# e.insert(0, \"Enter your first point (x)\")\n",
    "# myLabel1 = Label(root, text=\"New Software for interpolation\")\n",
    "# myLabel2 = Label(root, text=\"New Software for You\")\n",
    "# myLabel1.pack()\n",
    "# myLabel2.pack()\n",
    "\n",
    "# def myClick():\n",
    "#     myNewLabel = Label(root, text=e.get())\n",
    "#     myNewLabel.pack()\n",
    "# myButton = Button(root, text=\"Click here!\", padx=50, command=myClick)\n",
    "# myButton.pack()\n",
    "\n",
    "root.mainloop()\n",
    "\n"
   ]
  },
  {
   "cell_type": "code",
   "execution_count": null,
   "id": "authorized-awareness",
   "metadata": {},
   "outputs": [],
   "source": []
  },
  {
   "cell_type": "code",
   "execution_count": 64,
   "id": "entire-canvas",
   "metadata": {},
   "outputs": [
    {
     "data": {
      "text/plain": [
       "-0.2"
      ]
     },
     "execution_count": 64,
     "metadata": {},
     "output_type": "execute_result"
    }
   ],
   "source": [
    "(4.0 - 5.0)/5.0"
   ]
  },
  {
   "cell_type": "code",
   "execution_count": null,
   "id": "attached-administrator",
   "metadata": {},
   "outputs": [],
   "source": []
  },
  {
   "cell_type": "code",
   "execution_count": null,
   "id": "japanese-raleigh",
   "metadata": {},
   "outputs": [],
   "source": []
  },
  {
   "cell_type": "code",
   "execution_count": 38,
   "id": "artificial-theater",
   "metadata": {},
   "outputs": [
    {
     "name": "stdout",
     "output_type": "stream",
     "text": [
      "Please enter the number of points you have: 3\n",
      "Point 1 (x): 1\n",
      "Point 1 (y): 2\n",
      "[(1.0, 2.0)]\n",
      "Point 2 (x): 3\n",
      "Point 2 (y): 4\n",
      "[(1.0, 2.0), (3.0, 4.0)]\n",
      "Point 3 (x): 5\n",
      "Point 3 (y): 6\n",
      "[(1.0, 2.0), (3.0, 4.0), (5.0, 6.0)]\n",
      "3.905124837953327\n",
      "[1. 3. 5.]\n",
      "[2. 4. 6.]\n",
      "<class 'shapely.geometry.linestring.LineString'>\n",
      "5.0\n"
     ]
    },
    {
     "name": "stderr",
     "output_type": "stream",
     "text": [
      "/home/majid/.local/lib/python3.8/site-packages/IPython/core/interactiveshell.py:3427: RankWarning: Polyfit may be poorly conditioned\n",
      "  exec(code_obj, self.user_global_ns, self.user_ns)\n"
     ]
    },
    {
     "data": {
      "image/png": "[encoded data removed]",
      "text/plain": [
       "<Figure size 432x288 with 1 Axes>"
      ]
     },
     "metadata": {
      "needs_background": "light"
     },
     "output_type": "display_data"
    }
   ],
   "source": [
    "import numpy as np\n",
    "import matplotlib.pyplot as plt\n",
    "import shapely.geometry as geom\n",
    "\n",
    "inp_num_points_str = input('Please enter the number of points you have: ')\n",
    "\n",
    "inp_num_points = int(inp_num_points_str)\n",
    "points_list = []\n",
    "for i in range(inp_num_points):\n",
    "    inp_x1 = float(input(f'Point {i+1} (x): '))\n",
    "    inp_x2 = float(input(f'Point {i+1} (y): '))\n",
    "    points_list.append((inp_x1, inp_x2))\n",
    "    print(points_list)\n",
    "\n",
    "points = np.array(points_list)\n",
    "\n",
    "line = geom.LineString(points)\n",
    "point = geom.Point(2.5,9)\n",
    "\n",
    "print(point.distance(line))\n",
    "\n",
    "# get x and y vectors\n",
    "x = points[:,0]\n",
    "y = points[:,1]\n",
    "\n",
    "print(x)\n",
    "print(y)\n",
    "\n",
    "print(type(line))\n",
    "\n",
    "# calculate polynomial\n",
    "z = np.polyfit(x, y, 3)\n",
    "f = np.poly1d(z)\n",
    "\n",
    "# calculate new x's and y's\n",
    "x_new = np.linspace(x[0], x[-1], 50)\n",
    "y_new = f(x_new)\n",
    "\n",
    "point_on_graph_with_same_x = f(2.5)\n",
    "point_on_graph_with_same_y = np.interp(8, y_new, x_new)\n",
    "\n",
    "print(point_on_graph_with_same_y)\n",
    "x_p = [2.5]\n",
    "y_p = [8]\n",
    "\n",
    "\n",
    "plt.title(\"Sports Watch Data\")\n",
    "plt.xlabel(\"Average Pulse\")\n",
    "plt.ylabel(\"Calorie Burnage\")\n",
    "\n",
    "plt.plot(x,y,'o', x_new, y_new,)\n",
    "plt.plot(x_p, y_p,'x', markersize=10, label=\"new point\")\n",
    "plt.plot(x_p, point_on_graph_with_same_x,'o', markersize=10, label=\"distance to x\")\n",
    "plt.plot(point_on_graph_with_same_y, y_p,'o', markersize=10, label=\"distance to y\")\n",
    "\n",
    "plt.legend(loc=\"upper left\")\n",
    "\n",
    "\n",
    "plt.xlim([x[0]-1, x[-1] + 1 ])\n",
    "\n",
    "plt.grid()\n",
    "plt.show()"
   ]
  },
  {
   "cell_type": "markdown",
   "id": "respiratory-projection",
   "metadata": {},
   "source": []
  },
  {
   "cell_type": "code",
   "execution_count": 136,
   "id": "treated-broad",
   "metadata": {},
   "outputs": [
    {
     "name": "stdout",
     "output_type": "stream",
     "text": [
      "0.025580982739200116\n"
     ]
    },
    {
     "data": {
      "image/png": "[encoded data removed]",
      "text/plain": [
       "<Figure size 432x288 with 1 Axes>"
      ]
     },
     "metadata": {
      "needs_background": "light"
     },
     "output_type": "display_data"
    }
   ],
   "source": [
    "import shapely.geometry as geom\n",
    "import numpy as np\n",
    "\n",
    "coords = np.loadtxt('points.txt')\n",
    "\n",
    "line = geom.LineString(coords)\n",
    "point = geom.Point(0.9, 10.5)\n",
    "\n",
    "# Note that \"line.distance(point)\" would be identical\n",
    "print(point.distance(line))\n",
    "fig, ax = plt.subplots()\n",
    "ax.plot(*coords.T)\n",
    "ax.axis('equal')\n",
    "NearestPoint(line, ax)\n",
    "plt.show()\n"
   ]
  },
  {
   "cell_type": "code",
   "execution_count": null,
   "id": "private-activity",
   "metadata": {},
   "outputs": [],
   "source": []
  },
  {
   "cell_type": "code",
   "execution_count": 39,
   "id": "expanded-harbor",
   "metadata": {},
   "outputs": [
    {
     "name": "stdout",
     "output_type": "stream",
     "text": [
      "Please enter the number of points you have: 3\n",
      "Point 1 (x): 1\n",
      "Point 1 (y): 2\n",
      "[(1.0, 2.0)]\n",
      "Point 2 (x): 3\n",
      "Point 2 (y): 4\n",
      "[(1.0, 2.0), (3.0, 4.0)]\n",
      "Point 3 (x): 5\n",
      "Point 3 (y): 6\n",
      "[(1.0, 2.0), (3.0, 4.0), (5.0, 6.0)]\n",
      "3.905124837953327\n",
      "[1. 3. 5.]\n",
      "[2. 4. 6.]\n",
      "<class 'shapely.geometry.linestring.LineString'>\n",
      "5.0\n"
     ]
    },
    {
     "name": "stderr",
     "output_type": "stream",
     "text": [
      "/home/majid/.local/lib/python3.8/site-packages/IPython/core/interactiveshell.py:3427: RankWarning: Polyfit may be poorly conditioned\n",
      "  exec(code_obj, self.user_global_ns, self.user_ns)\n"
     ]
    },
    {
     "data": {
      "image/png": "[encoded data removed]",
      "text/plain": [
       "<Figure size 432x288 with 1 Axes>"
      ]
     },
     "metadata": {
      "needs_background": "light"
     },
     "output_type": "display_data"
    }
   ],
   "source": [
    "import numpy as np\n",
    "import matplotlib.pyplot as plt\n",
    "import shapely.geometry as geom\n",
    "\n",
    "inp_num_points_str = input('Please enter the number of points you have: ')\n",
    "\n",
    "inp_num_points = int(inp_num_points_str)\n",
    "points_list = []\n",
    "for i in range(inp_num_points):\n",
    "    inp_x1 = float(input(f'Point {i+1} (x): '))\n",
    "    inp_x2 = float(input(f'Point {i+1} (y): '))\n",
    "    points_list.append((inp_x1, inp_x2))\n",
    "    print(points_list)\n",
    "\n",
    "points = np.array(points_list)\n",
    "\n",
    "line = geom.LineString(points)\n",
    "point = geom.Point(2.5,9)\n",
    "\n",
    "print(point.distance(line))\n",
    "\n",
    "# get x and y vectors\n",
    "x = points[:,0]\n",
    "y = points[:,1]\n",
    "\n",
    "print(x)\n",
    "print(y)\n",
    "\n",
    "print(type(line))\n",
    "\n",
    "# calculate polynomial\n",
    "z = np.polyfit(x, y, 3)\n",
    "f = np.poly1d(z)\n",
    "\n",
    "# calculate new x's and y's\n",
    "x_new = np.linspace(x[0], x[-1], 50)\n",
    "y_new = f(x_new)\n",
    "\n",
    "point_on_graph_with_same_x = f(2.5)\n",
    "point_on_graph_with_same_y = np.interp(8, y_new, x_new)\n",
    "\n",
    "print(point_on_graph_with_same_y)\n",
    "x_p = [2.5]\n",
    "y_p = [8]\n",
    "\n",
    "\n",
    "plt.title(\"Sports Watch Data\")\n",
    "plt.xlabel(\"Average Pulse\")\n",
    "plt.ylabel(\"Calorie Burnage\")\n",
    "\n",
    "plt.plot(x,y,'o', x_new, y_new,)\n",
    "plt.plot(x_p, y_p,'x', markersize=10, label=\"new point\")\n",
    "plt.plot(x_p, point_on_graph_with_same_x,'o', markersize=10, label=\"distance to x\")\n",
    "plt.plot(point_on_graph_with_same_y, y_p,'o', markersize=10, label=\"distance to y\")\n",
    "\n",
    "plt.legend(loc=\"upper left\")\n",
    "\n",
    "\n",
    "plt.xlim([x[0]-1, x[-1] + 1 ])\n",
    "\n",
    "plt.grid()\n",
    "plt.show()"
   ]
  },
  {
   "cell_type": "code",
   "execution_count": null,
   "id": "liable-consequence",
   "metadata": {},
   "outputs": [],
   "source": []
  },
  {
   "cell_type": "code",
   "execution_count": null,
   "id": "excellent-tracker",
   "metadata": {},
   "outputs": [],
   "source": []
  },
  {
   "cell_type": "code",
   "execution_count": null,
   "id": "institutional-boost",
   "metadata": {},
   "outputs": [],
   "source": []
  },
  {
   "cell_type": "code",
   "execution_count": null,
   "id": "patient-airport",
   "metadata": {},
   "outputs": [],
   "source": []
  }
 ],
 "metadata": {
  "kernelspec": {
   "display_name": "Python 3",
   "language": "python",
   "name": "python3"
  },
  "language_info": {
   "codemirror_mode": {
    "name": "ipython",
    "version": 3
   },
   "file_extension": ".py",
   "mimetype": "text/x-python",
   "name": "python",
   "nbconvert_exporter": "python",
   "pygments_lexer": "ipython3",
   "version": "3.8.10"
  }
 },
 "nbformat": 4,
 "nbformat_minor": 5
}
